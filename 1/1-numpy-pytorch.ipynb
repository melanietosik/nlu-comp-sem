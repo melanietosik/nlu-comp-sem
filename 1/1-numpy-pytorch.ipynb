{
 "cells": [
  {
   "cell_type": "markdown",
   "metadata": {},
   "source": [
    "# Exercise 1 DS-GA 1012"
   ]
  },
  {
   "cell_type": "markdown",
   "metadata": {},
   "source": [
    "# Preface\n",
    "\n",
    "This first exercise/homework is primarily meant to ensure that you have access to a machine with the software that you'll need for this course. Complete the assignment by filling in code where necessary using Jupyter!"
   ]
  },
  {
   "cell_type": "markdown",
   "metadata": {},
   "source": [
    "## What NumPy and PyTorch are and do"
   ]
  },
  {
   "cell_type": "markdown",
   "metadata": {},
   "source": [
    "Both NumPy and PyTorch are python packages that allow for complex scientific computing with NumPy array and Tensor objects. These objects allow the easy definition of vectorized and matrix-level operations. Researchers and programmers can use these tools to quickly prototype models which involve lots of matrix calculations such as deep neural networks like we do in Sam's group! As you can imagine, these packages allow complex manipulations and allow us to define things like computation graphs. "
   ]
  },
  {
   "cell_type": "markdown",
   "metadata": {},
   "source": [
    "## Don't be Scared"
   ]
  },
  {
   "cell_type": "markdown",
   "metadata": {},
   "source": [
    "If this is your first time working with 'Tensors' and 'NumPy Arrays' and things like this don't be alarmed or intimidated. These are basiscally just are a general term to refer to an n-dimensional matrix or vector and have the same sorts of operations and properties. If some of the terms in the previous section aren't clear or don't make sense, that's okay and you will get a good handle of these as you work through the course!"
   ]
  },
  {
   "cell_type": "markdown",
   "metadata": {},
   "source": [
    "# Making sure everything works"
   ]
  },
  {
   "cell_type": "markdown",
   "metadata": {},
   "source": [
    "Before you can go any farther, you'll need to make sure you have Python, Jupyter, NumPy, and PyTorch installed. For some help with that, see [here](https://docs.google.com/document/d/1nb9dfgRku7_WCsAOGEh5S4O489Mp22F2d3ue6yvfLfA/edit?usp=sharing). \n",
    "\n",
    "Once you've done all of that, you should open this notebook in Jupyter and run the following:"
   ]
  },
  {
   "cell_type": "code",
   "execution_count": 1,
   "metadata": {
    "collapsed": true,
    "scrolled": true
   },
   "outputs": [],
   "source": [
    "import numpy as np"
   ]
  },
  {
   "cell_type": "markdown",
   "metadata": {},
   "source": [
    "If that worked as expected, you should be able to run the below a few times and get different outcomes each time."
   ]
  },
  {
   "cell_type": "code",
   "execution_count": 2,
   "metadata": {},
   "outputs": [
    {
     "data": {
      "text/plain": [
       "0.3496647726524603"
      ]
     },
     "execution_count": 2,
     "metadata": {},
     "output_type": "execute_result"
    }
   ],
   "source": [
    "np.random.rand()"
   ]
  },
  {
   "cell_type": "code",
   "execution_count": 3,
   "metadata": {},
   "outputs": [
    {
     "data": {
      "text/plain": [
       "0.24383111653646783"
      ]
     },
     "execution_count": 3,
     "metadata": {},
     "output_type": "execute_result"
    }
   ],
   "source": [
    "np.random.rand()"
   ]
  },
  {
   "cell_type": "markdown",
   "metadata": {},
   "source": [
    "Now let's try importing and testing PyTorch."
   ]
  },
  {
   "cell_type": "code",
   "execution_count": 4,
   "metadata": {
    "collapsed": true
   },
   "outputs": [],
   "source": [
    "import torch"
   ]
  },
  {
   "cell_type": "markdown",
   "metadata": {},
   "source": [
    "First we define some tensor variables."
   ]
  },
  {
   "cell_type": "code",
   "execution_count": 5,
   "metadata": {
    "collapsed": true
   },
   "outputs": [],
   "source": [
    "x = torch.rand(10,5)\n",
    "w = torch.rand(2,10)\n",
    "\n",
    "y = torch"
   ]
  },
  {
   "cell_type": "markdown",
   "metadata": {},
   "source": [
    "Then we check their sizes:"
   ]
  },
  {
   "cell_type": "code",
   "execution_count": 6,
   "metadata": {},
   "outputs": [
    {
     "name": "stdout",
     "output_type": "stream",
     "text": [
      "torch.Size([10, 5])\n",
      "torch.Size([2, 10])\n"
     ]
    }
   ],
   "source": [
    "print(x.size())\n",
    "print(w.size())"
   ]
  },
  {
   "cell_type": "markdown",
   "metadata": {},
   "source": [
    "Then lets multiply these tensors and store in a variable y:"
   ]
  },
  {
   "cell_type": "code",
   "execution_count": 7,
   "metadata": {},
   "outputs": [
    {
     "name": "stdout",
     "output_type": "stream",
     "text": [
      "\n",
      " 2.4974  2.7290  2.2332  2.2119  2.4985\n",
      " 2.7135  2.6469  2.1619  1.9661  2.1909\n",
      "[torch.FloatTensor of size 2x5]\n",
      "\n"
     ]
    }
   ],
   "source": [
    "y = torch.matmul(w,x)\n",
    "print(y)"
   ]
  },
  {
   "cell_type": "markdown",
   "metadata": {},
   "source": [
    "You can operate on tensors easily!"
   ]
  },
  {
   "cell_type": "code",
   "execution_count": 8,
   "metadata": {},
   "outputs": [
    {
     "name": "stdout",
     "output_type": "stream",
     "text": [
      "\n",
      " 1.3681  0.5367  1.0253  0.9078  0.7460\n",
      " 1.3102  0.8871  1.0070  0.9957  0.4154\n",
      " 0.6343  1.1933  1.3965  0.7475  1.2729\n",
      " 1.0212  0.3201  0.5629  1.2393  0.9009\n",
      " 0.2614  0.8839  0.3801  1.0876  1.0098\n",
      " 0.6927  1.3995  1.2883  1.1977  0.5635\n",
      " 1.2751  0.7305  0.3520  1.0295  0.6534\n",
      " 1.4798  0.2935  0.9014  0.8078  0.5235\n",
      " 1.2569  0.9902  0.9939  0.4979  0.7502\n",
      " 1.2116  1.1237  0.6383  1.3444  0.8411\n",
      "[torch.FloatTensor of size 10x5]\n",
      "\n",
      "\n",
      " 1.3681  0.5367  1.0253  0.9078  0.7460\n",
      " 1.3102  0.8871  1.0070  0.9957  0.4154\n",
      " 0.6343  1.1933  1.3965  0.7475  1.2729\n",
      " 1.0212  0.3201  0.5629  1.2393  0.9009\n",
      " 0.2614  0.8839  0.3801  1.0876  1.0098\n",
      " 0.6927  1.3995  1.2883  1.1977  0.5635\n",
      " 1.2751  0.7305  0.3520  1.0295  0.6534\n",
      " 1.4798  0.2935  0.9014  0.8078  0.5235\n",
      " 1.2569  0.9902  0.9939  0.4979  0.7502\n",
      " 1.2116  1.1237  0.6383  1.3444  0.8411\n",
      "[torch.FloatTensor of size 10x5]\n",
      "\n"
     ]
    }
   ],
   "source": [
    "z = torch.rand(10,5)\n",
    "print(x + z)\n",
    "print(torch.add(x,z))"
   ]
  },
  {
   "cell_type": "markdown",
   "metadata": {},
   "source": [
    "Unlike TensorFlow computation is done in place and not in a session, thus you can see the tensor computation as you go. This makes debugging and general model building much easier!"
   ]
  },
  {
   "cell_type": "markdown",
   "metadata": {},
   "source": [
    "## In-class exercise (taken from Sam's F16 3340.002 Exercise 1)\n",
    "### Part 1:"
   ]
  },
  {
   "cell_type": "markdown",
   "metadata": {},
   "source": [
    "Write a python function using NumPy to compute the following function of `x`. You can set $\\mu$ to 0 and $\\sigma$ to 1. This happens to be the probability distribution function for a normal distribution, but we're just using it as an arbitrary demo, and you shouldn't use any preexisting code for this particular distribution. You'll likely need to search for relevant NumPy documentation."
   ]
  },
  {
   "cell_type": "markdown",
   "metadata": {},
   "source": [
    "![The PDF of the standard normal distribution.](normalpdf.svg)"
   ]
  },
  {
   "cell_type": "code",
   "execution_count": 9,
   "metadata": {
    "collapsed": true
   },
   "outputs": [],
   "source": [
    "# np.power(np.e, np.array([1, 2, 3]))"
   ]
  },
  {
   "cell_type": "code",
   "execution_count": 10,
   "metadata": {
    "collapsed": true
   },
   "outputs": [],
   "source": [
    "def np_fn(x):\n",
    "    \n",
    "    mu, sigma = 0, 1\n",
    "    \n",
    "    a = 1 / np.sqrt(2 * np.square(sigma) * np.pi)\n",
    "    b = np.exp(-np.square(x-mu) / (2* np.square(sigma)))\n",
    "    \n",
    "    return a*b"
   ]
  },
  {
   "cell_type": "markdown",
   "metadata": {},
   "source": [
    "Assume `x` is a vector. You should be able to run the following command and get the subsequent result:"
   ]
  },
  {
   "cell_type": "code",
   "execution_count": 11,
   "metadata": {},
   "outputs": [
    {
     "name": "stdout",
     "output_type": "stream",
     "text": [
      "[ 0.39894228  0.24197072  0.05399097  0.00443185]\n"
     ]
    }
   ],
   "source": [
    "x = np.array([0, 1, 2, 3.0])\n",
    "print(np_fn(x))"
   ]
  },
  {
   "cell_type": "markdown",
   "metadata": {},
   "source": [
    "Expected output: `array([ 0.39894228,  0.24197072,  0.05399097,  0.00443185])\n",
    "`"
   ]
  },
  {
   "cell_type": "markdown",
   "metadata": {},
   "source": [
    "### Part 2:\n",
    "Now try to write the same function (`pytorch_fn(x)`) in PyTorch."
   ]
  },
  {
   "cell_type": "code",
   "execution_count": 12,
   "metadata": {
    "collapsed": true
   },
   "outputs": [],
   "source": [
    "def pytorch_fn(x):\n",
    "    \n",
    "    y = torch.from_numpy(x)\n",
    "    \n",
    "    mu, sigma = 0, 1\n",
    "    \n",
    "    a = 1 / np.sqrt(2 * sigma**2 * np.pi)\n",
    "    b = torch.exp(-(y-mu)**2 / (2 * sigma**2))\n",
    "    \n",
    "    return a*b"
   ]
  },
  {
   "cell_type": "markdown",
   "metadata": {},
   "source": [
    "You should be able to run command below, and get the same output as above. This is quite straight forward and may (probably should) look very similar to np_fn!"
   ]
  },
  {
   "cell_type": "code",
   "execution_count": 13,
   "metadata": {},
   "outputs": [
    {
     "data": {
      "text/plain": [
       "\n",
       " 0.3989\n",
       " 0.2420\n",
       " 0.0540\n",
       " 0.0044\n",
       "[torch.DoubleTensor of size 4]"
      ]
     },
     "execution_count": 13,
     "metadata": {},
     "output_type": "execute_result"
    }
   ],
   "source": [
    "pytorch_fn(x)"
   ]
  },
  {
   "cell_type": "markdown",
   "metadata": {
    "collapsed": true
   },
   "source": [
    "Credits: Much of this was taken from Sam Bowman's TensorFlow Ex1 for F16 3340.002."
   ]
  }
 ],
 "metadata": {
  "kernelspec": {
   "display_name": "Python 3",
   "language": "python",
   "name": "python3"
  },
  "language_info": {
   "codemirror_mode": {
    "name": "ipython",
    "version": 3
   },
   "file_extension": ".py",
   "mimetype": "text/x-python",
   "name": "python",
   "nbconvert_exporter": "python",
   "pygments_lexer": "ipython3",
   "version": "3.6.3"
  }
 },
 "nbformat": 4,
 "nbformat_minor": 1
}
